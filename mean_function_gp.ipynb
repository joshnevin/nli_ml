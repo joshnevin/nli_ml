{
 "cells": [
  {
   "cell_type": "code",
   "execution_count": 1,
   "id": "95060f48",
   "metadata": {},
   "outputs": [],
   "source": [
    "import numpy as np\n",
    "# from projectile import simulator_multioutput, print_results\n",
    "import mogp_emulator\n",
    "from mogp_emulator.MeanFunction import Coefficient, LinearMean, MeanFunction\n",
    "import pandas as pd\n",
    "from scipy.io import savemat, loadmat\n",
    "try:\n",
    "    import matplotlib.pyplot as plt\n",
    "    makeplots = True\n",
    "except ImportError:\n",
    "    makeplots = False\n",
    "import pickle\n",
    "def lin2db(x):\n",
    "    return 10*np.log10(x)\n",
    "def db2lin(x):\n",
    "    return 10**(x/10) \n",
    "launch_powers = loadmat(\"data/input_data_mW.mat\")['lnch_pow_mW']\n",
    "noise_powers = loadmat(\"data/output_data_mW.mat\")['tot_noise_pow_mW']"
   ]
  },
  {
   "cell_type": "code",
   "execution_count": 11,
   "id": "0da6d6b6",
   "metadata": {},
   "outputs": [],
   "source": [
    "inputs = launch_powers\n",
    "targets = noise_powers[:,0]"
   ]
  },
  {
   "cell_type": "code",
   "execution_count": 12,
   "id": "c82a9e18",
   "metadata": {},
   "outputs": [
    {
     "data": {
      "image/png": "[encoded data removed]",
      "text/plain": [
       "<Figure size 432x288 with 1 Axes>"
      ]
     },
     "metadata": {
      "needs_background": "light"
     },
     "output_type": "display_data"
    }
   ],
   "source": [
    "plt.plot(inputs,targets,'+')\n",
    "plt.show()"
   ]
  },
  {
   "cell_type": "code",
   "execution_count": 13,
   "id": "0835a025",
   "metadata": {},
   "outputs": [
    {
     "data": {
      "text/plain": [
       "(250, 5)"
      ]
     },
     "execution_count": 13,
     "metadata": {},
     "output_type": "execute_result"
    }
   ],
   "source": [
    "launch_powers.shape"
   ]
  },
  {
   "cell_type": "code",
   "execution_count": 14,
   "id": "80d7ecfa",
   "metadata": {},
   "outputs": [
    {
     "name": "stdout",
     "output_type": "stream",
     "text": [
      "c + c*x[0]^3.0 + c*x[0]*x[1]^2.0 + c*x[0]*x[2]^2.0 + c*x[0]*x[3]^2.0 + c*x[0]*x[4]^2.0\n"
     ]
    }
   ],
   "source": [
    "# mf = \"I(x[0]**3)\"\n",
    "mf = \"I(x[0]**3) + I(x[0]*x[1]**2) + I(x[0]*x[2]**2) + I(x[0]*x[3]**2) + I(x[0]*x[4]**2)\"  # left-most channel\n",
    "# mf = \"I(x[2]**3) + I(x[2]*x[1]**2) + I(x[2]*x[3]**2) + I(x[2]*x[0]**2) + I(x[2]*x[4]**2)\"  # centre channel\n",
    "# mf = \"I(x[4]**3) + I(x[4]*x[3]**2) + I(x[4]*x[2]**2) + I(x[4]*x[1]**2) + I(x[4]*x[0]**2)\"  # right-most channel\n",
    "print(MeanFunction(mf))"
   ]
  },
  {
   "cell_type": "code",
   "execution_count": 15,
   "id": "7c3a0927",
   "metadata": {},
   "outputs": [
    {
     "name": "stdout",
     "output_type": "stream",
     "text": [
      "Matrix not positive definite, skipping this iteration\n"
     ]
    }
   ],
   "source": [
    "# gp_map = mogp_emulator.GaussianProcess(inputs, targets, mean=mf)\n",
    "gp_map = mogp_emulator.GaussianProcess(inputs, targets, mean=mf, kernel='SquaredExponential', nugget=\"fit\")\n",
    "# fit hyperparameters\n",
    "gp_map = mogp_emulator.fit_GP_MAP(gp_map)\n",
    "# gp can be called directly if only the means are desired\n",
    "pred_means = gp_map(inputs)"
   ]
  },
  {
   "cell_type": "code",
   "execution_count": 16,
   "id": "c0273a31",
   "metadata": {},
   "outputs": [
    {
     "name": "stdout",
     "output_type": "stream",
     "text": [
      "GPParams with:\n",
      "mean = [0.00882688 0.00227621 0.00023307 0.00029499 0.0007116  0.00036755]\n",
      "correlation = [ 0.9789348  20.98602244 20.72939516 26.00874784  0.46071361]\n",
      "covariance = 2.634861820449094e-05\n",
      "nugget = 1.078499536119127e-08\n"
     ]
    }
   ],
   "source": [
    "print(gp_map.theta)"
   ]
  },
  {
   "cell_type": "code",
   "execution_count": 17,
   "id": "780cdea9",
   "metadata": {},
   "outputs": [
    {
     "name": "stdout",
     "output_type": "stream",
     "text": [
      "ASE [dBm] =  -20.541927589565447\n",
      "SPM [dBm] =  -26.427872215271314\n",
      "XPM 1 [dBm] =  -36.325113177493364\n",
      "XPM 2 [dBm] =  -35.30191591622098\n",
      "XPM 3 [dBm] =  -31.477667149769278\n",
      "XPM 4 [dBm] =  -34.346855572044596\n"
     ]
    }
   ],
   "source": [
    "print(\"ASE [dBm] = \",lin2db(gp_map.theta.mean[0]))\n",
    "print(\"SPM [dBm] = \", lin2db(gp_map.theta.mean[1]))\n",
    "print(\"XPM 1 [dBm] = \", lin2db(gp_map.theta.mean[2]))\n",
    "print(\"XPM 2 [dBm] = \", lin2db(gp_map.theta.mean[3]))\n",
    "print(\"XPM 3 [dBm] = \", lin2db(gp_map.theta.mean[4]))\n",
    "print(\"XPM 4 [dBm] = \", lin2db(gp_map.theta.mean[5]))"
   ]
  },
  {
   "cell_type": "code",
   "execution_count": null,
   "id": "3aae43ef",
   "metadata": {},
   "outputs": [],
   "source": [
    "lin2db(gp_map.theta.mean[1])"
   ]
  },
  {
   "cell_type": "code",
   "execution_count": null,
   "id": "bf4c7047",
   "metadata": {},
   "outputs": [],
   "source": [
    "pred_means.shape"
   ]
  },
  {
   "cell_type": "code",
   "execution_count": null,
   "id": "7c0d3658",
   "metadata": {},
   "outputs": [],
   "source": [
    "inputs[:,0].shape"
   ]
  },
  {
   "cell_type": "code",
   "execution_count": null,
   "id": "05ebe05b",
   "metadata": {},
   "outputs": [],
   "source": [
    "inputs_plt = lin2db(inputs[:,0])\n",
    "pred_means_plt = lin2db(pred_means)\n",
    "targets_plt = lin2db(targets)\n",
    "\n",
    "plt.plot(inputs_plt, pred_means_plt, '+')\n",
    "plt.plot(inputs_plt, targets_plt, 'x')\n",
    "plt.show()"
   ]
  },
  {
   "cell_type": "code",
   "execution_count": null,
   "id": "caf0ca8a",
   "metadata": {},
   "outputs": [],
   "source": [
    "np.mean(abs(pred_means - targets))"
   ]
  },
  {
   "cell_type": "markdown",
   "id": "1666f956",
   "metadata": {},
   "source": [
    "TO DOs:\n",
    "- work out how to obtain mean function parameters from fitted GP \n",
    "- try different mean functions\n",
    "- see if extrapolation is improved with non-zero mean"
   ]
  },
  {
   "cell_type": "code",
   "execution_count": null,
   "id": "02624c13",
   "metadata": {},
   "outputs": [],
   "source": [
    "pip list"
   ]
  },
  {
   "cell_type": "code",
   "execution_count": null,
   "id": "568db79a",
   "metadata": {},
   "outputs": [],
   "source": []
  }
 ],
 "metadata": {
  "kernelspec": {
   "display_name": "Python 3 (ipykernel)",
   "language": "python",
   "name": "python3"
  },
  "language_info": {
   "codemirror_mode": {
    "name": "ipython",
    "version": 3
   },
   "file_extension": ".py",
   "mimetype": "text/x-python",
   "name": "python",
   "nbconvert_exporter": "python",
   "pygments_lexer": "ipython3",
   "version": "3.8.0"
  }
 },
 "nbformat": 4,
 "nbformat_minor": 5
}
