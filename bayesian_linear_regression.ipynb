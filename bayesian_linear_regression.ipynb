{
 "cells": [
  {
   "cell_type": "code",
   "execution_count": 1,
   "id": "f6ca643f",
   "metadata": {},
   "outputs": [],
   "source": [
    "import numpy as np\n",
    "# from projectile import simulator_multioutput, print_results\n",
    "# import mogp_emulator\n",
    "import pandas as pd\n",
    "from scipy.io import savemat, loadmat\n",
    "try:\n",
    "    import matplotlib.pyplot as plt\n",
    "    makeplots = True\n",
    "except ImportError:\n",
    "    makeplots = False\n",
    "import pickle\n",
    "def lin2db(x):\n",
    "    return 10*np.log10(x)\n",
    "def db2lin(x):\n",
    "    return 10**(x/10) \n",
    "from sklearn.linear_model import LinearRegression, BayesianRidge"
   ]
  },
  {
   "cell_type": "code",
   "execution_count": 2,
   "id": "71130f54",
   "metadata": {},
   "outputs": [],
   "source": [
    "launch_powers = loadmat(\"data/input_data_mW.mat\")['lnch_pow_mW']\n",
    "noise_powers = loadmat(\"data/output_data_mW.mat\")['tot_noise_pow_mW']"
   ]
  },
  {
   "cell_type": "markdown",
   "id": "a8b106dd",
   "metadata": {},
   "source": [
    "Bayesian linear model:\n",
    "$y \\sim N(XW, \\sigma^2)$  \n",
    "Here $W = w_0, w_1, w_2, w_3, w_4, w_5$, such that $XW = w_0 + w_1p_1 + w_2p_2 + w_3p_3 + w_4p_4 + w_5p_5 $.  \n",
    "Therefore, the bias $w_0$ in this model should correspond to ASE."
   ]
  },
  {
   "cell_type": "code",
   "execution_count": 206,
   "id": "febbe6d5",
   "metadata": {},
   "outputs": [],
   "source": [
    "num_channels = launch_powers.shape[1]\n",
    "num_examples = launch_powers.shape[0]\n",
    "num_train = 150\n",
    "num_test = 100\n",
    "channel_idx = 0\n",
    "x_train = launch_powers[:num_train]\n",
    "y_train = noise_powers[:num_train]\n",
    "x_test = launch_powers[num_train:]\n",
    "y_test = noise_powers[num_train:]\n",
    "\n",
    "# x_train = (x_train[:,channel_idx]**3).reshape(-1, 1)\n",
    "# x_test = (x_test[:,channel_idx]**3).reshape(-1, 1)\n",
    "x_train = (x_train**3)\n",
    "x_test = (x_test**3)\n",
    "y_train = y_train[:,channel_idx]\n",
    "y_test = y_test[:,channel_idx]"
   ]
  },
  {
   "cell_type": "code",
   "execution_count": 207,
   "id": "9ec36e73",
   "metadata": {},
   "outputs": [],
   "source": [
    "# arr = np.zeros([150,15])\n",
    "# arr[:,:5] = x_train\n",
    "# arr[:,5:10] = x_train**2\n",
    "# arr[:,10:15] = x_train**3\n",
    "# arr.shape"
   ]
  },
  {
   "cell_type": "code",
   "execution_count": 208,
   "id": "71bbe62d",
   "metadata": {},
   "outputs": [],
   "source": [
    "# arr_test = np.zeros([100,15])\n",
    "# arr_test[:,:5] = x_test\n",
    "# arr_test[:,5:10] = x_test**2\n",
    "# arr_test[:,10:15] = x_test**3\n",
    "# arr_test.shape"
   ]
  },
  {
   "cell_type": "code",
   "execution_count": 209,
   "id": "c5ab984a",
   "metadata": {},
   "outputs": [],
   "source": [
    "regressor_bayes = BayesianRidge()\n",
    "# bayes_lin_reg = regressor_bayes.fit(arr, y_train)\n",
    "# bayes_lin_reg = regressor_bayes.fit(arr, y_train[:,channel_idx])\n",
    "# bayes_lin_reg = regressor_bayes.fit(x_train**3, y_train[:,channel_idx])\n",
    "bayes_lin_reg = regressor_bayes.fit(x_train, y_train)"
   ]
  },
  {
   "cell_type": "code",
   "execution_count": 210,
   "id": "03ab66b1",
   "metadata": {},
   "outputs": [
    {
     "data": {
      "text/plain": [
       "array([ 0.00379225,  0.00025992,  0.00023478,  0.00038617, -0.00074396])"
      ]
     },
     "execution_count": 210,
     "metadata": {},
     "output_type": "execute_result"
    }
   ],
   "source": [
    "bayes_lin_reg.coef_"
   ]
  },
  {
   "cell_type": "code",
   "execution_count": 211,
   "id": "84a56470",
   "metadata": {},
   "outputs": [
    {
     "data": {
      "text/plain": [
       "-20.24074744948274"
      ]
     },
     "execution_count": 211,
     "metadata": {},
     "output_type": "execute_result"
    }
   ],
   "source": [
    "lin2db(bayes_lin_reg.intercept_)"
   ]
  },
  {
   "cell_type": "code",
   "execution_count": 212,
   "id": "2ad63a03",
   "metadata": {},
   "outputs": [
    {
     "name": "stdout",
     "output_type": "stream",
     "text": [
      "R^2 = 0.9057610354507933\n"
     ]
    }
   ],
   "source": [
    "print(\"R^2 =\",regressor_bayes.score(x_train, y_train))"
   ]
  },
  {
   "cell_type": "code",
   "execution_count": 213,
   "id": "7b5f9e93",
   "metadata": {},
   "outputs": [
    {
     "name": "stdout",
     "output_type": "stream",
     "text": [
      "R^2 = 0.9068069779455538\n"
     ]
    }
   ],
   "source": [
    "print(\"R^2 =\",regressor_bayes.score(x_test, y_test))"
   ]
  },
  {
   "cell_type": "code",
   "execution_count": 214,
   "id": "37e35493",
   "metadata": {},
   "outputs": [
    {
     "name": "stdout",
     "output_type": "stream",
     "text": [
      "Training data MAE climb = 0.2975930329520136\n"
     ]
    }
   ],
   "source": [
    "y_pred = regressor_bayes.predict(x_test)\n",
    "# print(\"Training data MAE climb =\", np.mean(abs(lin2db(y_test) - lin2db(y_pred))))\n",
    "print(\"Training data MAE climb =\", np.mean(abs(lin2db(y_test) - lin2db(y_pred))))"
   ]
  },
  {
   "cell_type": "code",
   "execution_count": 215,
   "id": "6d704c17",
   "metadata": {},
   "outputs": [
    {
     "data": {
      "image/png": "[encoded data removed]",
      "text/plain": [
       "<Figure size 432x288 with 1 Axes>"
      ]
     },
     "metadata": {
      "needs_background": "light"
     },
     "output_type": "display_data"
    }
   ],
   "source": [
    "plt.plot(lin2db(x_test[:,channel_idx]**(1/3)), lin2db(y_pred), '+')\n",
    "plt.plot(lin2db(x_test[:,channel_idx]**(1/3)), lin2db(y_test), 'x')\n",
    "plt.show()"
   ]
  },
  {
   "cell_type": "code",
   "execution_count": 216,
   "id": "20aa6eca",
   "metadata": {},
   "outputs": [],
   "source": [
    "x_test_ex = np.linspace(0.1, db2lin(2.0), 1000)\n",
    "arr = np.zeros([1000,5])\n",
    "arr[:,0] = x_test_ex**3\n",
    "arr[:,1] = x_test_ex**3\n",
    "arr[:,2] = x_test_ex**3\n",
    "arr[:,3] = x_test_ex**3\n",
    "arr[:,4] = x_test_ex**3"
   ]
  },
  {
   "cell_type": "code",
   "execution_count": 217,
   "id": "633d80ac",
   "metadata": {},
   "outputs": [],
   "source": [
    "# y_pred_ex = regressor_bayes.predict(x_test_ex**3)\n",
    "y_pred_ex = regressor_bayes.predict(arr)"
   ]
  },
  {
   "cell_type": "code",
   "execution_count": 218,
   "id": "b2c87edc",
   "metadata": {},
   "outputs": [
    {
     "data": {
      "image/png": "[encoded data removed]",
      "text/plain": [
       "<Figure size 432x288 with 1 Axes>"
      ]
     },
     "metadata": {
      "needs_background": "light"
     },
     "output_type": "display_data"
    }
   ],
   "source": [
    "plt.plot(lin2db(x_test_ex), lin2db(y_pred_ex), 'r-')\n",
    "plt.plot(lin2db(x_test[:,channel_idx]**(1/3)), lin2db(y_test), 'bx')\n",
    "plt.show()"
   ]
  },
  {
   "cell_type": "code",
   "execution_count": null,
   "id": "4bab027b",
   "metadata": {},
   "outputs": [],
   "source": []
  }
 ],
 "metadata": {
  "kernelspec": {
   "display_name": "Python 3 (ipykernel)",
   "language": "python",
   "name": "python3"
  },
  "language_info": {
   "codemirror_mode": {
    "name": "ipython",
    "version": 3
   },
   "file_extension": ".py",
   "mimetype": "text/x-python",
   "name": "python",
   "nbconvert_exporter": "python",
   "pygments_lexer": "ipython3",
   "version": "3.8.0"
  }
 },
 "nbformat": 4,
 "nbformat_minor": 5
}
