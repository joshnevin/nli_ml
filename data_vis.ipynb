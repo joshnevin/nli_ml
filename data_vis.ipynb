{
 "cells": [
  {
   "cell_type": "code",
   "execution_count": 1,
   "id": "23b24d17",
   "metadata": {},
   "outputs": [],
   "source": [
    "import numpy as np\n",
    "# from projectile import simulator_multioutput, print_results\n",
    "import mogp_emulator\n",
    "import pandas as pd\n",
    "from scipy.io import savemat, loadmat\n",
    "try:\n",
    "    import matplotlib.pyplot as plt\n",
    "    makeplots = True\n",
    "except ImportError:\n",
    "    makeplots = False\n",
    "import pickle\n",
    "def lin2db(x):\n",
    "    return 10*np.log10(x)\n",
    "def db2lin(x):\n",
    "    return 10**(x/10) \n",
    "launch_powers = loadmat(\"data/input_data_mW.mat\")['lnch_pow_mW']\n",
    "noise_powers = loadmat(\"data/output_data_mW.mat\")['tot_noise_pow_mW']"
   ]
  },
  {
   "cell_type": "code",
   "execution_count": 2,
   "id": "98e2e412",
   "metadata": {},
   "outputs": [],
   "source": [
    "num_channels = launch_powers.shape[1]\n",
    "num_examples = launch_powers.shape[0]\n",
    "num_train = 150\n",
    "num_test = 100"
   ]
  },
  {
   "cell_type": "code",
   "execution_count": 3,
   "id": "e764709a",
   "metadata": {},
   "outputs": [
    {
     "data": {
      "text/plain": [
       "-21.01635471331459"
      ]
     },
     "execution_count": 3,
     "metadata": {},
     "output_type": "execute_result"
    }
   ],
   "source": [
    "lin2db(np.min(noise_powers))"
   ]
  },
  {
   "cell_type": "code",
   "execution_count": 4,
   "id": "a0c5432d",
   "metadata": {},
   "outputs": [
    {
     "data": {
      "text/plain": [
       "(250, 5)"
      ]
     },
     "execution_count": 4,
     "metadata": {},
     "output_type": "execute_result"
    }
   ],
   "source": [
    "launch_powers.shape"
   ]
  },
  {
   "cell_type": "code",
   "execution_count": 5,
   "id": "b9b135a6",
   "metadata": {},
   "outputs": [
    {
     "data": {
      "text/plain": [
       "(250, 5)"
      ]
     },
     "execution_count": 5,
     "metadata": {},
     "output_type": "execute_result"
    }
   ],
   "source": [
    "noise_powers.shape"
   ]
  },
  {
   "cell_type": "markdown",
   "id": "80f9cd41",
   "metadata": {},
   "source": [
    "Create data array"
   ]
  },
  {
   "cell_type": "code",
   "execution_count": 6,
   "id": "339a54c5",
   "metadata": {},
   "outputs": [],
   "source": [
    "noise_powers_shaped = np.zeros([num_channels,num_examples])\n",
    "for i in range(num_channels):\n",
    "    noise_powers_shaped[i] = noise_powers[:,i]"
   ]
  },
  {
   "cell_type": "code",
   "execution_count": 7,
   "id": "8a10eaa0",
   "metadata": {},
   "outputs": [
    {
     "data": {
      "text/plain": [
       "(5, 250)"
      ]
     },
     "execution_count": 7,
     "metadata": {},
     "output_type": "execute_result"
    }
   ],
   "source": [
    "noise_powers_shaped.shape"
   ]
  },
  {
   "cell_type": "code",
   "execution_count": 8,
   "id": "9d82183e",
   "metadata": {},
   "outputs": [
    {
     "data": {
      "text/plain": [
       "(5, 150)"
      ]
     },
     "execution_count": 8,
     "metadata": {},
     "output_type": "execute_result"
    }
   ],
   "source": [
    "noise_powers_shaped[:,:150].shape"
   ]
  },
  {
   "cell_type": "code",
   "execution_count": 9,
   "id": "eaa505cc",
   "metadata": {},
   "outputs": [
    {
     "data": {
      "text/plain": [
       "(5, 100)"
      ]
     },
     "execution_count": 9,
     "metadata": {},
     "output_type": "execute_result"
    }
   ],
   "source": [
    "noise_powers_shaped[:,150:].shape"
   ]
  },
  {
   "cell_type": "code",
   "execution_count": 10,
   "id": "3cde2a1d",
   "metadata": {},
   "outputs": [
    {
     "data": {
      "text/plain": [
       "0.0"
      ]
     },
     "execution_count": 10,
     "metadata": {},
     "output_type": "execute_result"
    }
   ],
   "source": [
    "np.sum(noise_powers_shaped[0] - noise_powers[:,0])"
   ]
  },
  {
   "cell_type": "code",
   "execution_count": 11,
   "id": "859531d8",
   "metadata": {},
   "outputs": [
    {
     "data": {
      "image/png": "[encoded data removed]",
      "text/plain": [
       "<Figure size 432x288 with 1 Axes>"
      ]
     },
     "metadata": {
      "needs_background": "light"
     },
     "output_type": "display_data"
    }
   ],
   "source": [
    "plt.plot(lin2db(launch_powers)[:,0], lin2db(noise_powers[:,0]), '+')\n",
    "# plt.plot(lin2db(launch_powers)[:,1], lin2db(noise_powers[:,1]), 'x')\n",
    "# plt.plot(lin2db(launch_powers)[:,2], lin2db(noise_powers[:,2]), '*')\n",
    "# plt.plot(lin2db(launch_powers)[:,3], lin2db(noise_powers[:,3]), '.')\n",
    "# plt.plot(lin2db(launch_powers)[:,4], lin2db(noise_powers[:,4]), '>')\n",
    "plt.show()"
   ]
  },
  {
   "cell_type": "code",
   "execution_count": 12,
   "id": "ba6d13d8",
   "metadata": {},
   "outputs": [
    {
     "data": {
      "text/plain": [
       "-21.01635471331459"
      ]
     },
     "execution_count": 12,
     "metadata": {},
     "output_type": "execute_result"
    }
   ],
   "source": [
    "min(lin2db(noise_powers[:,0]))"
   ]
  },
  {
   "cell_type": "code",
   "execution_count": 13,
   "id": "e1ec4503",
   "metadata": {},
   "outputs": [],
   "source": [
    "x_train = launch_powers[:num_train]\n",
    "y_train = noise_powers_shaped[:,:num_train]\n",
    "x_test = launch_powers[num_train:]\n",
    "y_test = noise_powers_shaped[:,num_train:]"
   ]
  },
  {
   "cell_type": "code",
   "execution_count": 15,
   "id": "2ec82bb8",
   "metadata": {},
   "outputs": [],
   "source": [
    "kernel = 'SquaredExponential'\n",
    "# kernel = 'Matern52'\n",
    "nugget = 'fit'\n",
    "# nugget = 'adaptive'\n",
    "gp = pickle.load(open(\"results/gp_150_\"+kernel+\"_\"+nugget+\"_mf.pkl\", 'rb'))\n",
    "predictions = pickle.load(open(\"results/predictions_100_\"+kernel+\"_\"+nugget+\"_mf.pkl\", 'rb'))"
   ]
  },
  {
   "cell_type": "code",
   "execution_count": 35,
   "id": "8de2afc6",
   "metadata": {},
   "outputs": [
    {
     "name": "stdout",
     "output_type": "stream",
     "text": [
      "GPParams with:\n",
      "mean = [ 1.11088961e-02  2.69751781e-03  8.97318672e-05  8.88275624e-05\n",
      "  2.43156757e-04 -3.76206431e-04]\n",
      "correlation = [ 0.96481899 12.54579535  8.61388677  4.44331487  0.5388185 ]\n",
      "covariance = 3.5744760883447735e-05\n",
      "nugget = 1.5205750172102388e-08\n",
      "GPParams with:\n",
      "mean = [ 1.34058092e-02  7.42923603e-05  2.35276961e-03  1.83153735e-04\n",
      " -3.37124340e-04  2.54030848e-04]\n",
      "correlation = [13.7029702   1.18189152  5.65433854  0.64696434  6.82874443]\n",
      "covariance = 6.609065804552137e-05\n",
      "nugget = 1.7284197846643942e-08\n",
      "GPParams with:\n",
      "mean = [0.00887273 0.00020258 0.00042493 0.00343691 0.00039495 0.00020139]\n",
      "correlation = [0.05704672 0.06685361 0.06991368 0.06142199 0.05591073]\n",
      "covariance = 1.7664398719660048e-09\n",
      "nugget = 9.535363604274822e-08\n",
      "GPParams with:\n",
      "mean = [1.16773067e-02 2.03154175e-04 8.05200472e-04 2.11070917e-04\n",
      " 1.93810711e-03 2.69982688e-05]\n",
      "correlation = [6.79885868 0.74462873 7.15774138 1.23410381 9.54710981]\n",
      "covariance = 8.26983195737698e-05\n",
      "nugget = 1.6561676110521047e-08\n",
      "GPParams with:\n",
      "mean = [1.34439787e-02 5.93034406e-04 1.70946012e-04 1.09356024e-04\n",
      " 4.45358939e-05 2.17409191e-03]\n",
      "correlation = [ 0.7564846   7.04609451 10.17975664 10.78200883  1.21056854]\n",
      "covariance = 9.28515861826824e-05\n",
      "nugget = 1.3766993861446395e-08\n"
     ]
    }
   ],
   "source": [
    "print(gp.emulators[0].theta)\n",
    "print(gp.emulators[1].theta)\n",
    "print(gp.emulators[2].theta)\n",
    "print(gp.emulators[3].theta)\n",
    "print(gp.emulators[4].theta)"
   ]
  },
  {
   "cell_type": "code",
   "execution_count": 40,
   "id": "184c196b",
   "metadata": {},
   "outputs": [
    {
     "name": "stdout",
     "output_type": "stream",
     "text": [
      "-19.543290945196713\n",
      "-18.727069648387676\n",
      "-20.519428338083685\n",
      "-19.326573124111935\n",
      "-18.714721851694986\n"
     ]
    }
   ],
   "source": [
    "print(lin2db(gp.emulators[0].theta.mean[0]))\n",
    "print(lin2db(gp.emulators[1].theta.mean[0]))\n",
    "print(lin2db(gp.emulators[2].theta.mean[0]))\n",
    "print(lin2db(gp.emulators[3].theta.mean[0]))\n",
    "print(lin2db(gp.emulators[4].theta.mean[0]))"
   ]
  },
  {
   "cell_type": "markdown",
   "id": "098caf66",
   "metadata": {},
   "source": [
    "NOTE! Channel indices may have been reversed here by the reshaping - need to double check with Nikita which channel is which..."
   ]
  },
  {
   "cell_type": "code",
   "execution_count": 16,
   "id": "c3155814",
   "metadata": {},
   "outputs": [
    {
     "name": "stdout",
     "output_type": "stream",
     "text": [
      "MAE ch1 =  0.02146270862747432\n",
      "MAE ch2 =  0.022561104515643783\n",
      "MAE ch3 =  0.06750427396273992\n",
      "MAE ch4 =  0.02426325824796436\n",
      "MAE ch5 =  0.024538202145880775\n"
     ]
    }
   ],
   "source": [
    "print(\"MAE ch1 = \",np.mean(abs(lin2db(predictions.mean[0]) - lin2db(y_test[0]))))\n",
    "print(\"MAE ch2 = \",np.mean(abs(lin2db(predictions.mean[1]) - lin2db(y_test[1]))))\n",
    "print(\"MAE ch3 = \",np.mean(abs(lin2db(predictions.mean[2]) - lin2db(y_test[2]))))\n",
    "print(\"MAE ch4 = \",np.mean(abs(lin2db(predictions.mean[3]) - lin2db(y_test[3]))))\n",
    "print(\"MAE ch5 = \",np.mean(abs(lin2db(predictions.mean[4]) - lin2db(y_test[4]))))"
   ]
  },
  {
   "cell_type": "code",
   "execution_count": 17,
   "id": "62be6ba2",
   "metadata": {},
   "outputs": [
    {
     "name": "stdout",
     "output_type": "stream",
     "text": [
      "RMSE ch1 =  0.026733820361295114\n",
      "RMSE ch2 =  0.027672456471192024\n",
      "RMSE ch3 =  0.08346443670391156\n",
      "RMSE ch4 =  0.031146036912936156\n",
      "RMSE ch5 =  0.030304308680694784\n"
     ]
    }
   ],
   "source": [
    "print(\"RMSE ch1 = \",(np.mean(   (lin2db(predictions.mean[0]) - lin2db(y_test[0]))**2   ))**0.5)\n",
    "print(\"RMSE ch2 = \",(np.mean(   (lin2db(predictions.mean[1]) - lin2db(y_test[1]))**2   ))**0.5)\n",
    "print(\"RMSE ch3 = \",(np.mean(   (lin2db(predictions.mean[2]) - lin2db(y_test[2]))**2   ))**0.5)\n",
    "print(\"RMSE ch4 = \",(np.mean(   (lin2db(predictions.mean[3]) - lin2db(y_test[3]))**2   ))**0.5)\n",
    "print(\"RMSE ch5 = \",(np.mean(   (lin2db(predictions.mean[4]) - lin2db(y_test[4]))**2   ))**0.5)"
   ]
  },
  {
   "cell_type": "code",
   "execution_count": 18,
   "id": "8f52e25d",
   "metadata": {},
   "outputs": [
    {
     "name": "stdout",
     "output_type": "stream",
     "text": [
      "MSE ch1 =  0.0007146971511099973\n",
      "MSE ch2 =  0.0007657648471500173\n",
      "MSE ch3 =  0.00696631219430126\n",
      "MSE ch4 =  0.0009700756153819816\n",
      "MSE ch5 =  0.0009183511246148332\n"
     ]
    }
   ],
   "source": [
    "print(\"MSE ch1 = \",np.mean(   (lin2db(predictions.mean[0]) - lin2db(y_test[0]))**2   ))\n",
    "print(\"MSE ch2 = \",np.mean(   (lin2db(predictions.mean[1]) - lin2db(y_test[1]))**2   ))\n",
    "print(\"MSE ch3 = \",np.mean(   (lin2db(predictions.mean[2]) - lin2db(y_test[2]))**2   ))\n",
    "print(\"MSE ch4 = \",np.mean(   (lin2db(predictions.mean[3]) - lin2db(y_test[3]))**2   ))\n",
    "print(\"MSE ch5 = \",np.mean(   (lin2db(predictions.mean[4]) - lin2db(y_test[4]))**2   ))"
   ]
  },
  {
   "cell_type": "code",
   "execution_count": 19,
   "id": "87fa2788",
   "metadata": {},
   "outputs": [
    {
     "name": "stdout",
     "output_type": "stream",
     "text": [
      "Mean of pred. std 0.0001423061473333409\n",
      "Median of pred. std 0.00013839662724358462\n"
     ]
    }
   ],
   "source": [
    "print(\"Mean of pred. std\",  np.mean(predictions.unc[0]**0.5))\n",
    "print(\"Median of pred. std\",  np.median(predictions.unc[0]**0.5))"
   ]
  },
  {
   "cell_type": "code",
   "execution_count": 20,
   "id": "599d55f4",
   "metadata": {},
   "outputs": [
    {
     "data": {
      "image/png": "[encoded data removed]",
      "text/plain": [
       "<Figure size 432x288 with 1 Axes>"
      ]
     },
     "metadata": {
      "needs_background": "light"
     },
     "output_type": "display_data"
    }
   ],
   "source": [
    "channel_idx = 0\n",
    "plt.plot(lin2db(x_test[:,channel_idx]), lin2db(predictions.mean[channel_idx]), '+', label='GP Pred. mean')\n",
    "plt.plot(lin2db(x_test[:,channel_idx]), lin2db(y_test[channel_idx]), 'x', label='Simulations')\n",
    "plt.show()"
   ]
  },
  {
   "cell_type": "code",
   "execution_count": 21,
   "id": "9479e1ac",
   "metadata": {},
   "outputs": [
    {
     "data": {
      "image/png": "[encoded data removed]",
      "text/plain": [
       "<Figure size 432x288 with 1 Axes>"
      ]
     },
     "metadata": {
      "needs_background": "light"
     },
     "output_type": "display_data"
    }
   ],
   "source": [
    "channel_idx = 1\n",
    "plt.plot(lin2db(x_test[:,channel_idx]), lin2db(predictions.mean[channel_idx]), '+', label='GP Pred. mean')\n",
    "plt.plot(lin2db(x_test[:,channel_idx]), lin2db(y_test[channel_idx]), 'x', label='Simulations')\n",
    "# plt.savefig('figures/channel_1_test_set.jpeg', dpi=300,bbox_inches='tight')\n",
    "plt.show()"
   ]
  },
  {
   "cell_type": "code",
   "execution_count": 22,
   "id": "08282189",
   "metadata": {},
   "outputs": [
    {
     "data": {
      "image/png": "[encoded data removed]",
      "text/plain": [
       "<Figure size 432x288 with 1 Axes>"
      ]
     },
     "metadata": {
      "needs_background": "light"
     },
     "output_type": "display_data"
    }
   ],
   "source": [
    "channel_idx = 2\n",
    "plt.plot(lin2db(x_test[:,channel_idx]), lin2db(predictions.mean[channel_idx]), '+', label='GP Pred. mean')\n",
    "plt.plot(lin2db(x_test[:,channel_idx]), lin2db(y_test[channel_idx]), 'x', label='Simulations')\n",
    "plt.show()"
   ]
  },
  {
   "cell_type": "code",
   "execution_count": 23,
   "id": "694bfe9d",
   "metadata": {},
   "outputs": [
    {
     "data": {
      "image/png": "[encoded data removed]",
      "text/plain": [
       "<Figure size 432x288 with 1 Axes>"
      ]
     },
     "metadata": {
      "needs_background": "light"
     },
     "output_type": "display_data"
    }
   ],
   "source": [
    "channel_idx = 3\n",
    "plt.plot(lin2db(x_test[:,channel_idx]), lin2db(predictions.mean[channel_idx]), '+', label='GP Pred. mean')\n",
    "plt.plot(lin2db(x_test[:,channel_idx]), lin2db(y_test[channel_idx]), 'x', label='Simulations')\n",
    "plt.show()"
   ]
  },
  {
   "cell_type": "code",
   "execution_count": 24,
   "id": "56a9f5e9",
   "metadata": {},
   "outputs": [
    {
     "data": {
      "image/png": "[encoded data removed]",
      "text/plain": [
       "<Figure size 432x288 with 1 Axes>"
      ]
     },
     "metadata": {
      "needs_background": "light"
     },
     "output_type": "display_data"
    }
   ],
   "source": [
    "channel_idx = 4\n",
    "plt.plot(lin2db(x_test[:,channel_idx]), lin2db(predictions.mean[channel_idx]), '+', label='GP Pred. mean')\n",
    "plt.plot(lin2db(x_test[:,channel_idx]), lin2db(y_test[channel_idx]), 'x', label='Simulations')\n",
    "plt.show()"
   ]
  },
  {
   "cell_type": "markdown",
   "id": "6bfd2b14",
   "metadata": {},
   "source": [
    "Plot GP sweep with confidence bands"
   ]
  },
  {
   "cell_type": "code",
   "execution_count": 25,
   "id": "8b83c1cd",
   "metadata": {},
   "outputs": [],
   "source": [
    "arr = np.zeros([100,5])\n",
    "# x_pred = np.linspace(db2lin(-2.0), db2lin(2.0), 100)\n",
    "x_pred = np.linspace(0.01, db2lin(2.0), 100)\n",
    "arr[:,0] = x_pred\n",
    "arr[:,1] = x_pred\n",
    "arr[:,2] = x_pred\n",
    "arr[:,3] = x_pred\n",
    "arr[:,4] = x_pred"
   ]
  },
  {
   "cell_type": "code",
   "execution_count": 26,
   "id": "1b7e0f19",
   "metadata": {},
   "outputs": [],
   "source": [
    "def convert_to_db_gpe_plots(sweep, sweep_unc, num_std):\n",
    "    sweep_confp = sweep + num_std*(sweep_unc**0.5)\n",
    "    sweep_confn = sweep - num_std*(sweep_unc**0.5)\n",
    "    sweep_confn = np.array([lin2db(i) for i in sweep_confn])  # convert to dB\n",
    "    sweep_confp = np.array([lin2db(i) for i in sweep_confp])\n",
    "    sweep = np.array([lin2db(i) for i in sweep]) \n",
    "    return sweep, sweep_confn, sweep_confp"
   ]
  },
  {
   "cell_type": "code",
   "execution_count": 27,
   "id": "9d5878bd",
   "metadata": {},
   "outputs": [],
   "source": [
    "gp_preds = gp.predict(arr)"
   ]
  },
  {
   "cell_type": "code",
   "execution_count": 28,
   "id": "7e976651",
   "metadata": {},
   "outputs": [],
   "source": [
    "num_std = 2\n",
    "ch1_sweep, ch1_sweep_confn, ch1_sweep_confp = convert_to_db_gpe_plots(gp_preds.mean[0], gp_preds.unc[0], 2)\n",
    "ch2_sweep, ch2_sweep_confn, ch2_sweep_confp = convert_to_db_gpe_plots(gp_preds.mean[1], gp_preds.unc[1], 2)\n",
    "ch3_sweep, ch3_sweep_confn, ch3_sweep_confp = convert_to_db_gpe_plots(gp_preds.mean[2], gp_preds.unc[2], 2)\n",
    "ch4_sweep, ch4_sweep_confn, ch4_sweep_confp = convert_to_db_gpe_plots(gp_preds.mean[3], gp_preds.unc[3], 2)\n",
    "ch5_sweep, ch5_sweep_confn, ch5_sweep_confp = convert_to_db_gpe_plots(gp_preds.mean[4], gp_preds.unc[4], 2)"
   ]
  },
  {
   "cell_type": "code",
   "execution_count": 36,
   "id": "b2dc60d5",
   "metadata": {},
   "outputs": [
    {
     "data": {
      "image/png": "[encoded data removed]",
      "text/plain": [
       "<Figure size 432x288 with 1 Axes>"
      ]
     },
     "metadata": {
      "needs_background": "light"
     },
     "output_type": "display_data"
    }
   ],
   "source": [
    "x_pred_dbm = lin2db(x_pred)\n",
    "plt.plot(x_pred_dbm, lin2db(gp_preds.mean[0]))\n",
    "# plt.plot(x_pred_dbm, lin2db(gp_preds.mean[1]))\n",
    "# plt.plot(x_pred_dbm, lin2db(gp_preds.mean[2]))\n",
    "# plt.plot(x_pred_dbm, lin2db(gp_preds.mean[3]))\n",
    "# plt.plot(x_pred_dbm, lin2db(gp_preds.mean[4]))\n",
    "plt.show()"
   ]
  },
  {
   "cell_type": "code",
   "execution_count": 30,
   "id": "c161ae24",
   "metadata": {},
   "outputs": [
    {
     "data": {
      "image/png": "[encoded data removed]",
      "text/plain": [
       "<Figure size 432x288 with 1 Axes>"
      ]
     },
     "metadata": {
      "needs_background": "light"
     },
     "output_type": "display_data"
    }
   ],
   "source": [
    "# x_pred_dbm = lin2db(x_pred)\n",
    "x_pred_dbm = x_pred_dbm\n",
    "# plt.plot(x_pred, lin2db(gp_preds.mean[0]), label='GP 1')\n",
    "plt.plot(x_pred, lin2db(gp_preds.mean[1]), label='GP 2')\n",
    "# plt.plot(x_pred, lin2db(gp_preds.mean[2]), label='GP 3')\n",
    "# plt.plot(x_pred, lin2db(gp_preds.mean[3]), label='GP 4')\n",
    "# plt.plot(x_pred, lin2db(gp_preds.mean[4]), label='GP 5')\n",
    "# plt.plot(x_test[:,0], lin2db(y_test[0]), 'x', label='Ch 1')\n",
    "plt.plot(x_test[:,1], lin2db(y_test[1]), '+', label='Ch 2')\n",
    "# plt.plot(x_test[:,2], lin2db(y_test[2]), '.', label='Ch 3')\n",
    "# plt.plot(x_test[:,3], lin2db(y_test[3]), '*', label='Ch 4')\n",
    "# plt.plot(x_test[:,4], lin2db(y_test[4]), '2', label='Ch 5')\n",
    "\n",
    "plt.legend(ncol=2)\n",
    "# plt.savefig('figures/gp_extrapolation_to_zero.jpeg', dpi=300,bbox_inches='tight')\n",
    "plt.show()"
   ]
  },
  {
   "cell_type": "code",
   "execution_count": 31,
   "id": "e0fdc459",
   "metadata": {},
   "outputs": [
    {
     "data": {
      "image/png": "[encoded data removed]",
      "text/plain": [
       "<Figure size 432x288 with 1 Axes>"
      ]
     },
     "metadata": {
      "needs_background": "light"
     },
     "output_type": "display_data"
    }
   ],
   "source": [
    "# x_pred_dbm = lin2db(x_pred)\n",
    "x_pred_dbm = x_pred_dbm\n",
    "ch_idx = 0\n",
    "plt.plot(x_pred, lin2db(gp_preds.mean[ch_idx]), label='GP')\n",
    "plt.plot(x_test[:,ch_idx], lin2db(y_test[ch_idx]), '+', label='Data')\n",
    "\n",
    "plt.legend(ncol=2)\n",
    "# plt.savefig('figures/gp_extrapolation_to_zero.jpeg', dpi=300,bbox_inches='tight')\n",
    "plt.show()"
   ]
  },
  {
   "cell_type": "code",
   "execution_count": 32,
   "id": "267016b0",
   "metadata": {},
   "outputs": [
    {
     "data": {
      "image/png": "[encoded data removed]",
      "text/plain": [
       "<Figure size 432x288 with 1 Axes>"
      ]
     },
     "metadata": {
      "needs_background": "light"
     },
     "output_type": "display_data"
    }
   ],
   "source": [
    "f, ax = plt.subplots()\n",
    "# plt.plot(x_pred_dbm, ch1_sweep, 'b-', label='ch1')\n",
    "# ax.fill(np.concatenate([x_pred_dbm, x_pred_dbm[::-1]]),\n",
    "#             np.concatenate([ch1_sweep_confp,\n",
    "#                             (ch1_sweep_confn)[::-1]]),\n",
    "#             alpha=0.3, fc='b', ec='None', label='ch1 1$\\sigma$')\n",
    "\n",
    "plt.plot(x_pred_dbm, ch2_sweep, 'r-', label='ch2')\n",
    "ax.fill(np.concatenate([x_pred_dbm, x_pred_dbm[::-1]]),\n",
    "            np.concatenate([ch2_sweep_confp,\n",
    "                            (ch2_sweep_confn)[::-1]]),\n",
    "            alpha=0.3, fc='r', ec='None', label='ch2 2$\\sigma$')\n",
    "\n",
    "# plt.plot(x_pred_dbm, ch3_sweep,'r-', label='ch3')\n",
    "# ax.fill(np.concatenate([x_pred_dbm, x_pred_dbm[::-1]]),\n",
    "#             np.concatenate([ch3_sweep_confp,\n",
    "#                             (ch3_sweep_confn)[::-1]]),\n",
    "#             alpha=0.3, fc='r', ec='None', label='ch3 1$\\sigma$')\n",
    "\n",
    "\n",
    "plt.plot(x_pred_dbm, ch4_sweep, 'b-', label='ch4')\n",
    "ax.fill(np.concatenate([x_pred_dbm, x_pred_dbm[::-1]]),\n",
    "            np.concatenate([ch4_sweep_confp,\n",
    "                            (ch4_sweep_confn)[::-1]]),\n",
    "            alpha=0.3, fc='b', ec='None', label='ch4 2$\\sigma$')\n",
    "\n",
    "# plt.plot(x_pred_dbm, ch5_sweep, 'g-', label='ch5')\n",
    "# ax.fill(np.concatenate([x_pred_dbm, x_pred_dbm[::-1]]),\n",
    "#             np.concatenate([ch5_sweep_confp,\n",
    "#                             (ch5_sweep_confn)[::-1]]),\n",
    "#             alpha=0.3, fc='g', ec='None', label='ch5 1$\\sigma$')\n",
    "plt.xlabel(\"Launch powers (dBm)\")\n",
    "plt.ylabel(\"Noise power (dB)\")\n",
    "plt.xlim([x_pred_dbm[0], x_pred_dbm[-1]])\n",
    "ax.set_aspect(1.0/ax.get_data_ratio(), adjustable='box')\n",
    "plt.legend(ncol=2)\n",
    "plt.savefig('figures/channel2vschannel4.jpeg', dpi=300,bbox_inches='tight')\n",
    "plt.show()"
   ]
  },
  {
   "cell_type": "markdown",
   "id": "16d97b85",
   "metadata": {},
   "source": [
    "Obtain bias from fitted GP:"
   ]
  },
  {
   "cell_type": "code",
   "execution_count": null,
   "id": "b6893e33",
   "metadata": {},
   "outputs": [],
   "source": [
    "biases = gp.predict(bias_input)"
   ]
  },
  {
   "cell_type": "code",
   "execution_count": null,
   "id": "42e45b2e",
   "metadata": {},
   "outputs": [],
   "source": [
    "biases_mean = biases.mean"
   ]
  },
  {
   "cell_type": "code",
   "execution_count": null,
   "id": "a01ba9ab",
   "metadata": {},
   "outputs": [],
   "source": [
    "biases_mean_confp = biases_mean + (biases.unc)**0.5\n",
    "biases_mean_confn = biases_mean - (biases.unc)**0.5"
   ]
  },
  {
   "cell_type": "code",
   "execution_count": null,
   "id": "6896cf54",
   "metadata": {},
   "outputs": [],
   "source": [
    "f, ax = plt.subplots()\n",
    "plt.plot(lin2db(biases_mean), 'b^')\n",
    "# plt.plot(lin2db(biases_mean_confp), 'b+')\n",
    "# plt.plot(lin2db(biases_mean_confn), 'b_')\n",
    "ax.set_xticks(np.arange(0,5,1))\n",
    "ax.set_xticklabels(np.arange(1,6,1))\n",
    "plt.xlabel(\"Channel ID\")\n",
    "plt.ylabel(\"ASE noise power (dBm)\")\n",
    "plt.savefig('figures/gp_bias_estimates.jpeg', dpi=300,bbox_inches='tight')\n",
    "plt.show()"
   ]
  },
  {
   "cell_type": "code",
   "execution_count": null,
   "id": "c6dc6edf",
   "metadata": {},
   "outputs": [],
   "source": [
    "lin2db(np.mean(biases_mean))"
   ]
  },
  {
   "cell_type": "code",
   "execution_count": null,
   "id": "21d20184",
   "metadata": {},
   "outputs": [],
   "source": []
  }
 ],
 "metadata": {
  "kernelspec": {
   "display_name": "Python 3 (ipykernel)",
   "language": "python",
   "name": "python3"
  },
  "language_info": {
   "codemirror_mode": {
    "name": "ipython",
    "version": 3
   },
   "file_extension": ".py",
   "mimetype": "text/x-python",
   "name": "python",
   "nbconvert_exporter": "python",
   "pygments_lexer": "ipython3",
   "version": "3.8.0"
  }
 },
 "nbformat": 4,
 "nbformat_minor": 5
}
