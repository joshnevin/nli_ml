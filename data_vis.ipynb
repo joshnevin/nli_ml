{
 "cells": [
  {
   "cell_type": "code",
   "execution_count": 1,
   "id": "23b24d17",
   "metadata": {},
   "outputs": [],
   "source": [
    "import numpy as np\n",
    "# from projectile import simulator_multioutput, print_results\n",
    "import mogp_emulator\n",
    "import pandas as pd\n",
    "from scipy.io import savemat, loadmat\n",
    "try:\n",
    "    import matplotlib.pyplot as plt\n",
    "    makeplots = True\n",
    "except ImportError:\n",
    "    makeplots = False\n",
    "import pickle\n",
    "def lin2db(x):\n",
    "    return 10*np.log10(x)\n",
    "def db2lin(x):\n",
    "    return 10**(x/10) \n",
    "launch_powers = loadmat(\"data/input_data_mW.mat\")['lnch_pow_mW']\n",
    "noise_powers = loadmat(\"data/output_data_mW.mat\")['tot_noise_pow_mW']"
   ]
  },
  {
   "cell_type": "code",
   "execution_count": 2,
   "id": "98e2e412",
   "metadata": {},
   "outputs": [],
   "source": [
    "num_channels = launch_powers.shape[1]\n",
    "num_examples = launch_powers.shape[0]\n",
    "num_train = 150\n",
    "num_test = 100"
   ]
  },
  {
   "cell_type": "code",
   "execution_count": 3,
   "id": "182309a8",
   "metadata": {},
   "outputs": [
    {
     "data": {
      "text/plain": [
       "(250, 5)"
      ]
     },
     "execution_count": 3,
     "metadata": {},
     "output_type": "execute_result"
    }
   ],
   "source": [
    "launch_powers.shape"
   ]
  },
  {
   "cell_type": "code",
   "execution_count": 4,
   "id": "ddca57ee",
   "metadata": {},
   "outputs": [
    {
     "data": {
      "text/plain": [
       "(250, 5)"
      ]
     },
     "execution_count": 4,
     "metadata": {},
     "output_type": "execute_result"
    }
   ],
   "source": [
    "noise_powers.shape"
   ]
  },
  {
   "cell_type": "markdown",
   "id": "44009560",
   "metadata": {},
   "source": [
    "Create data array"
   ]
  },
  {
   "cell_type": "code",
   "execution_count": 5,
   "id": "45c0db92",
   "metadata": {},
   "outputs": [],
   "source": [
    "noise_powers_shaped = np.zeros([num_channels,num_examples])\n",
    "for i in range(num_channels):\n",
    "    noise_powers_shaped[i] = noise_powers[:,i]"
   ]
  },
  {
   "cell_type": "code",
   "execution_count": 6,
   "id": "317a9bb3",
   "metadata": {},
   "outputs": [
    {
     "data": {
      "text/plain": [
       "(5, 250)"
      ]
     },
     "execution_count": 6,
     "metadata": {},
     "output_type": "execute_result"
    }
   ],
   "source": [
    "noise_powers_shaped.shape"
   ]
  },
  {
   "cell_type": "code",
   "execution_count": 7,
   "id": "a8a22338",
   "metadata": {},
   "outputs": [
    {
     "data": {
      "text/plain": [
       "(5, 150)"
      ]
     },
     "execution_count": 7,
     "metadata": {},
     "output_type": "execute_result"
    }
   ],
   "source": [
    "noise_powers_shaped[:,:150].shape"
   ]
  },
  {
   "cell_type": "code",
   "execution_count": 8,
   "id": "2fbed77f",
   "metadata": {},
   "outputs": [
    {
     "data": {
      "text/plain": [
       "(5, 100)"
      ]
     },
     "execution_count": 8,
     "metadata": {},
     "output_type": "execute_result"
    }
   ],
   "source": [
    "noise_powers_shaped[:,150:].shape"
   ]
  },
  {
   "cell_type": "code",
   "execution_count": 9,
   "id": "994f2ef5",
   "metadata": {},
   "outputs": [
    {
     "data": {
      "text/plain": [
       "0.0"
      ]
     },
     "execution_count": 9,
     "metadata": {},
     "output_type": "execute_result"
    }
   ],
   "source": [
    "np.sum(noise_powers_shaped[0] - noise_powers[:,0])"
   ]
  },
  {
   "cell_type": "code",
   "execution_count": 10,
   "id": "859531d8",
   "metadata": {},
   "outputs": [
    {
     "data": {
      "image/png": "[encoded data removed]",
      "text/plain": [
       "<Figure size 432x288 with 1 Axes>"
      ]
     },
     "metadata": {
      "needs_background": "light"
     },
     "output_type": "display_data"
    }
   ],
   "source": [
    "plt.plot(lin2db(launch_powers)[:,0], lin2db(noise_powers[:,0]), '+')\n",
    "# plt.plot(lin2db(launch_powers)[:,1], lin2db(noise_powers[:,1]), 'x')\n",
    "# plt.plot(lin2db(launch_powers)[:,2], lin2db(noise_powers[:,2]), '*')\n",
    "# plt.plot(lin2db(launch_powers)[:,3], lin2db(noise_powers[:,3]), '.')\n",
    "# plt.plot(lin2db(launch_powers)[:,4], lin2db(noise_powers[:,4]), '>')\n",
    "plt.show()"
   ]
  },
  {
   "cell_type": "code",
   "execution_count": 86,
   "id": "35a087a6",
   "metadata": {},
   "outputs": [
    {
     "data": {
      "text/plain": [
       "-21.01635471331459"
      ]
     },
     "execution_count": 86,
     "metadata": {},
     "output_type": "execute_result"
    }
   ],
   "source": [
    "min(lin2db(noise_powers[:,0]))"
   ]
  },
  {
   "cell_type": "code",
   "execution_count": 11,
   "id": "e1ec4503",
   "metadata": {},
   "outputs": [],
   "source": [
    "x_train = launch_powers[:num_train]\n",
    "y_train = noise_powers_shaped[:,:num_train]\n",
    "x_test = launch_powers[num_train:]\n",
    "y_test = noise_powers_shaped[:,num_train:]"
   ]
  },
  {
   "cell_type": "code",
   "execution_count": 63,
   "id": "cff02cbe",
   "metadata": {},
   "outputs": [
    {
     "data": {
      "text/plain": [
       "0.6309573444801932"
      ]
     },
     "execution_count": 63,
     "metadata": {},
     "output_type": "execute_result"
    }
   ],
   "source": [
    "np.min(x_train)"
   ]
  },
  {
   "cell_type": "code",
   "execution_count": 12,
   "id": "2ec82bb8",
   "metadata": {},
   "outputs": [],
   "source": [
    "# gp = pickle.load(open(\"results/gp_150.pkl\", 'rb'))\n",
    "# kernel = 'SquaredExponential'\n",
    "kernel = 'Matern52'\n",
    "nugget = 'fit'\n",
    "# nugget = 'adaptive'\n",
    "gp = pickle.load(open(\"results/gp_150_\"+kernel+\"_\"+nugget+\".pkl\", 'rb'))\n",
    "predictions = pickle.load(open(\"results/predictions_100_\"+kernel+\"_\"+nugget+\".pkl\", 'rb'))"
   ]
  },
  {
   "cell_type": "markdown",
   "id": "098caf66",
   "metadata": {},
   "source": [
    "NOTE! Channel indices may have been reversed here by the reshaping - need to double check with Nikita which channel is which..."
   ]
  },
  {
   "cell_type": "code",
   "execution_count": 13,
   "id": "c3155814",
   "metadata": {},
   "outputs": [
    {
     "name": "stdout",
     "output_type": "stream",
     "text": [
      "MAE ch1 =  0.022418392465662632\n",
      "MAE ch2 =  0.020367913524786622\n",
      "MAE ch3 =  0.024504521364748264\n",
      "MAE ch4 =  0.025811527805026113\n",
      "MAE ch5 =  0.02499179097171993\n"
     ]
    }
   ],
   "source": [
    "print(\"MAE ch1 = \",np.mean(abs(lin2db(predictions.mean[0]) - lin2db(y_test[0]))))\n",
    "print(\"MAE ch2 = \",np.mean(abs(lin2db(predictions.mean[1]) - lin2db(y_test[1]))))\n",
    "print(\"MAE ch3 = \",np.mean(abs(lin2db(predictions.mean[2]) - lin2db(y_test[2]))))\n",
    "print(\"MAE ch4 = \",np.mean(abs(lin2db(predictions.mean[3]) - lin2db(y_test[3]))))\n",
    "print(\"MAE ch5 = \",np.mean(abs(lin2db(predictions.mean[4]) - lin2db(y_test[4]))))"
   ]
  },
  {
   "cell_type": "code",
   "execution_count": 14,
   "id": "62be6ba2",
   "metadata": {},
   "outputs": [
    {
     "name": "stdout",
     "output_type": "stream",
     "text": [
      "RMSE ch1 =  0.028068316602398547\n",
      "RMSE ch2 =  0.026961699808943456\n",
      "RMSE ch3 =  0.030037944907729118\n",
      "RMSE ch4 =  0.03248253372495548\n",
      "RMSE ch5 =  0.030856760311535253\n"
     ]
    }
   ],
   "source": [
    "print(\"RMSE ch1 = \",(np.mean(   (lin2db(predictions.mean[0]) - lin2db(y_test[0]))**2   ))**0.5)\n",
    "print(\"RMSE ch2 = \",(np.mean(   (lin2db(predictions.mean[1]) - lin2db(y_test[1]))**2   ))**0.5)\n",
    "print(\"RMSE ch3 = \",(np.mean(   (lin2db(predictions.mean[2]) - lin2db(y_test[2]))**2   ))**0.5)\n",
    "print(\"RMSE ch4 = \",(np.mean(   (lin2db(predictions.mean[3]) - lin2db(y_test[3]))**2   ))**0.5)\n",
    "print(\"RMSE ch5 = \",(np.mean(   (lin2db(predictions.mean[4]) - lin2db(y_test[4]))**2   ))**0.5)"
   ]
  },
  {
   "cell_type": "code",
   "execution_count": 15,
   "id": "dbbeb564",
   "metadata": {},
   "outputs": [
    {
     "name": "stdout",
     "output_type": "stream",
     "text": [
      "MSE ch1 =  0.0007878303968924819\n",
      "MSE ch2 =  0.0007269332565875816\n",
      "MSE ch3 =  0.0009022781342797697\n",
      "MSE ch4 =  0.0010551149971928702\n",
      "MSE ch5 =  0.0009521396569235371\n"
     ]
    }
   ],
   "source": [
    "print(\"MSE ch1 = \",np.mean(   (lin2db(predictions.mean[0]) - lin2db(y_test[0]))**2   ))\n",
    "print(\"MSE ch2 = \",np.mean(   (lin2db(predictions.mean[1]) - lin2db(y_test[1]))**2   ))\n",
    "print(\"MSE ch3 = \",np.mean(   (lin2db(predictions.mean[2]) - lin2db(y_test[2]))**2   ))\n",
    "print(\"MSE ch4 = \",np.mean(   (lin2db(predictions.mean[3]) - lin2db(y_test[3]))**2   ))\n",
    "print(\"MSE ch5 = \",np.mean(   (lin2db(predictions.mean[4]) - lin2db(y_test[4]))**2   ))"
   ]
  },
  {
   "cell_type": "code",
   "execution_count": 16,
   "id": "87fa2788",
   "metadata": {},
   "outputs": [
    {
     "name": "stdout",
     "output_type": "stream",
     "text": [
      "Mean of pred. std 0.00014389979740856145\n",
      "Median of pred. std 0.00013949150860783217\n"
     ]
    }
   ],
   "source": [
    "print(\"Mean of pred. std\",  np.mean(predictions.unc[0]**0.5))\n",
    "print(\"Median of pred. std\",  np.median(predictions.unc[0]**0.5))"
   ]
  },
  {
   "cell_type": "code",
   "execution_count": 73,
   "id": "599d55f4",
   "metadata": {},
   "outputs": [
    {
     "data": {
      "image/png": "[encoded data removed]",
      "text/plain": [
       "<Figure size 432x288 with 1 Axes>"
      ]
     },
     "metadata": {
      "needs_background": "light"
     },
     "output_type": "display_data"
    }
   ],
   "source": [
    "channel_idx = 0\n",
    "plt.plot(lin2db(x_test[:,channel_idx]), lin2db(predictions.mean[channel_idx]), '+', label='GP Pred. mean')\n",
    "plt.plot(lin2db(x_test[:,channel_idx]), lin2db(y_test[channel_idx]), 'x', label='Simulations')\n",
    "plt.show()"
   ]
  },
  {
   "cell_type": "code",
   "execution_count": 75,
   "id": "9479e1ac",
   "metadata": {},
   "outputs": [
    {
     "data": {
      "image/png": "[encoded data removed]",
      "text/plain": [
       "<Figure size 432x288 with 1 Axes>"
      ]
     },
     "metadata": {
      "needs_background": "light"
     },
     "output_type": "display_data"
    }
   ],
   "source": [
    "channel_idx = 1\n",
    "plt.plot(lin2db(x_test[:,channel_idx]), lin2db(predictions.mean[channel_idx]), '+', label='GP Pred. mean')\n",
    "plt.plot(lin2db(x_test[:,channel_idx]), lin2db(y_test[channel_idx]), 'x', label='Simulations')\n",
    "# plt.savefig('figures/channel_1_test_set.jpeg', dpi=300,bbox_inches='tight')\n",
    "plt.show()"
   ]
  },
  {
   "cell_type": "code",
   "execution_count": 19,
   "id": "08282189",
   "metadata": {},
   "outputs": [
    {
     "data": {
      "image/png": "[encoded data removed]",
      "text/plain": [
       "<Figure size 432x288 with 1 Axes>"
      ]
     },
     "metadata": {
      "needs_background": "light"
     },
     "output_type": "display_data"
    }
   ],
   "source": [
    "channel_idx = 2\n",
    "plt.plot(lin2db(x_test[:,channel_idx]), lin2db(predictions.mean[channel_idx]), '+', label='GP Pred. mean')\n",
    "plt.plot(lin2db(x_test[:,channel_idx]), lin2db(y_test[channel_idx]), 'x', label='Simulations')\n",
    "plt.show()"
   ]
  },
  {
   "cell_type": "code",
   "execution_count": 20,
   "id": "694bfe9d",
   "metadata": {},
   "outputs": [
    {
     "data": {
      "image/png": "[encoded data removed]",
      "text/plain": [
       "<Figure size 432x288 with 1 Axes>"
      ]
     },
     "metadata": {
      "needs_background": "light"
     },
     "output_type": "display_data"
    }
   ],
   "source": [
    "channel_idx = 3\n",
    "plt.plot(lin2db(x_test[:,channel_idx]), lin2db(predictions.mean[channel_idx]), '+', label='GP Pred. mean')\n",
    "plt.plot(lin2db(x_test[:,channel_idx]), lin2db(y_test[channel_idx]), 'x', label='Simulations')\n",
    "plt.show()"
   ]
  },
  {
   "cell_type": "code",
   "execution_count": 21,
   "id": "56a9f5e9",
   "metadata": {},
   "outputs": [
    {
     "data": {
      "image/png": "[encoded data removed]",
      "text/plain": [
       "<Figure size 432x288 with 1 Axes>"
      ]
     },
     "metadata": {
      "needs_background": "light"
     },
     "output_type": "display_data"
    }
   ],
   "source": [
    "channel_idx = 4\n",
    "plt.plot(lin2db(x_test[:,channel_idx]), lin2db(predictions.mean[channel_idx]), '+', label='GP Pred. mean')\n",
    "plt.plot(lin2db(x_test[:,channel_idx]), lin2db(y_test[channel_idx]), 'x', label='Simulations')\n",
    "plt.show()"
   ]
  },
  {
   "cell_type": "markdown",
   "id": "6bfd2b14",
   "metadata": {},
   "source": [
    "Plot GP sweep with confidence bands"
   ]
  },
  {
   "cell_type": "code",
   "execution_count": 78,
   "id": "8b83c1cd",
   "metadata": {},
   "outputs": [],
   "source": [
    "arr = np.zeros([100,5])\n",
    "# x_pred = np.linspace(db2lin(-2.0), db2lin(2.0), 100)\n",
    "x_pred = np.linspace(0, db2lin(2.0), 100)\n",
    "arr[:,0] = x_pred\n",
    "arr[:,1] = x_pred\n",
    "arr[:,2] = x_pred\n",
    "arr[:,3] = x_pred\n",
    "arr[:,4] = x_pred"
   ]
  },
  {
   "cell_type": "code",
   "execution_count": 79,
   "id": "f3f6b864",
   "metadata": {},
   "outputs": [],
   "source": [
    "def convert_to_db_gpe_plots(sweep, sweep_unc, num_std):\n",
    "    sweep_confp = sweep + num_std*(sweep_unc**0.5)\n",
    "    sweep_confn = sweep - num_std*(sweep_unc**0.5)\n",
    "    sweep_confn = np.array([lin2db(i) for i in sweep_confn])  # convert to dB\n",
    "    sweep_confp = np.array([lin2db(i) for i in sweep_confp])\n",
    "    sweep = np.array([lin2db(i) for i in sweep]) \n",
    "    return sweep, sweep_confn, sweep_confp"
   ]
  },
  {
   "cell_type": "code",
   "execution_count": 80,
   "id": "9d5878bd",
   "metadata": {},
   "outputs": [],
   "source": [
    "gp_preds = gp.predict(arr)"
   ]
  },
  {
   "cell_type": "code",
   "execution_count": 81,
   "id": "7f3ab0b0",
   "metadata": {},
   "outputs": [
    {
     "name": "stderr",
     "output_type": "stream",
     "text": [
      "/var/folders/yy/jh80d4jd7mq917bdprz9ftlw0000gn/T/ipykernel_23801/920228572.py:13: RuntimeWarning: invalid value encountered in log10\n",
      "  return 10*np.log10(x)\n"
     ]
    }
   ],
   "source": [
    "num_std = 2\n",
    "ch1_sweep, ch1_sweep_confn, ch1_sweep_confp = convert_to_db_gpe_plots(gp_preds.mean[0], gp_preds.unc[0], 2)\n",
    "ch2_sweep, ch2_sweep_confn, ch2_sweep_confp = convert_to_db_gpe_plots(gp_preds.mean[1], gp_preds.unc[1], 2)\n",
    "ch3_sweep, ch3_sweep_confn, ch3_sweep_confp = convert_to_db_gpe_plots(gp_preds.mean[2], gp_preds.unc[2], 2)\n",
    "ch4_sweep, ch4_sweep_confn, ch4_sweep_confp = convert_to_db_gpe_plots(gp_preds.mean[3], gp_preds.unc[3], 2)\n",
    "ch5_sweep, ch5_sweep_confn, ch5_sweep_confp = convert_to_db_gpe_plots(gp_preds.mean[4], gp_preds.unc[4], 2)"
   ]
  },
  {
   "cell_type": "code",
   "execution_count": 84,
   "id": "b2dc60d5",
   "metadata": {},
   "outputs": [
    {
     "name": "stderr",
     "output_type": "stream",
     "text": [
      "/var/folders/yy/jh80d4jd7mq917bdprz9ftlw0000gn/T/ipykernel_23801/920228572.py:13: RuntimeWarning: divide by zero encountered in log10\n",
      "  return 10*np.log10(x)\n"
     ]
    },
    {
     "data": {
      "image/png": "[encoded data removed]",
      "text/plain": [
       "<Figure size 432x288 with 1 Axes>"
      ]
     },
     "metadata": {
      "needs_background": "light"
     },
     "output_type": "display_data"
    }
   ],
   "source": [
    "x_pred_dbm = lin2db(x_pred)\n",
    "plt.plot(x_pred_dbm, lin2db(gp_preds.mean[0]))\n",
    "plt.plot(x_pred_dbm, lin2db(gp_preds.mean[1]))\n",
    "plt.plot(x_pred_dbm, lin2db(gp_preds.mean[2]))\n",
    "plt.plot(x_pred_dbm, lin2db(gp_preds.mean[3]))\n",
    "plt.plot(x_pred_dbm, lin2db(gp_preds.mean[4]))\n",
    "plt.show()"
   ]
  },
  {
   "cell_type": "code",
   "execution_count": 85,
   "id": "c43dd243",
   "metadata": {},
   "outputs": [
    {
     "data": {
      "image/png": "[encoded data removed]",
      "text/plain": [
       "<Figure size 432x288 with 1 Axes>"
      ]
     },
     "metadata": {
      "needs_background": "light"
     },
     "output_type": "display_data"
    }
   ],
   "source": [
    "# x_pred_dbm = lin2db(x_pred)\n",
    "x_pred_dbm = x_pred_dbm\n",
    "plt.plot(x_pred, lin2db(gp_preds.mean[0]))\n",
    "plt.plot(x_pred, lin2db(gp_preds.mean[1]))\n",
    "plt.plot(x_pred, lin2db(gp_preds.mean[2]))\n",
    "plt.plot(x_pred, lin2db(gp_preds.mean[3]))\n",
    "plt.plot(x_pred, lin2db(gp_preds.mean[4]))\n",
    "plt.savefig('figures/gp_extrapolation_to_zero.jpeg', dpi=300,bbox_inches='tight')\n",
    "plt.show()"
   ]
  },
  {
   "cell_type": "code",
   "execution_count": 27,
   "id": "267016b0",
   "metadata": {},
   "outputs": [
    {
     "data": {
      "image/png": "[encoded data removed]",
      "text/plain": [
       "<Figure size 432x288 with 1 Axes>"
      ]
     },
     "metadata": {
      "needs_background": "light"
     },
     "output_type": "display_data"
    }
   ],
   "source": [
    "f, ax = plt.subplots()\n",
    "# plt.plot(x_pred_dbm, ch1_sweep, 'b-', label='ch1')\n",
    "# ax.fill(np.concatenate([x_pred_dbm, x_pred_dbm[::-1]]),\n",
    "#             np.concatenate([ch1_sweep_confp,\n",
    "#                             (ch1_sweep_confn)[::-1]]),\n",
    "#             alpha=0.3, fc='b', ec='None', label='ch1 1$\\sigma$')\n",
    "\n",
    "plt.plot(x_pred_dbm, ch2_sweep, 'r-', label='ch2')\n",
    "ax.fill(np.concatenate([x_pred_dbm, x_pred_dbm[::-1]]),\n",
    "            np.concatenate([ch2_sweep_confp,\n",
    "                            (ch2_sweep_confn)[::-1]]),\n",
    "            alpha=0.3, fc='r', ec='None', label='ch2 2$\\sigma$')\n",
    "\n",
    "# plt.plot(x_pred_dbm, ch3_sweep,'r-', label='ch3')\n",
    "# ax.fill(np.concatenate([x_pred_dbm, x_pred_dbm[::-1]]),\n",
    "#             np.concatenate([ch3_sweep_confp,\n",
    "#                             (ch3_sweep_confn)[::-1]]),\n",
    "#             alpha=0.3, fc='r', ec='None', label='ch3 1$\\sigma$')\n",
    "\n",
    "\n",
    "plt.plot(x_pred_dbm, ch4_sweep, 'b-', label='ch4')\n",
    "ax.fill(np.concatenate([x_pred_dbm, x_pred_dbm[::-1]]),\n",
    "            np.concatenate([ch4_sweep_confp,\n",
    "                            (ch4_sweep_confn)[::-1]]),\n",
    "            alpha=0.3, fc='b', ec='None', label='ch4 2$\\sigma$')\n",
    "\n",
    "# plt.plot(x_pred_dbm, ch5_sweep, 'g-', label='ch5')\n",
    "# ax.fill(np.concatenate([x_pred_dbm, x_pred_dbm[::-1]]),\n",
    "#             np.concatenate([ch5_sweep_confp,\n",
    "#                             (ch5_sweep_confn)[::-1]]),\n",
    "#             alpha=0.3, fc='g', ec='None', label='ch5 1$\\sigma$')\n",
    "plt.xlabel(\"Launch powers (dBm)\")\n",
    "plt.ylabel(\"Noise power (dB)\")\n",
    "plt.xlim([x_pred_dbm[0], x_pred_dbm[-1]])\n",
    "ax.set_aspect(1.0/ax.get_data_ratio(), adjustable='box')\n",
    "plt.legend(ncol=2)\n",
    "plt.savefig('figures/channel2vschannel4.jpeg', dpi=300,bbox_inches='tight')\n",
    "plt.show()"
   ]
  },
  {
   "cell_type": "markdown",
   "id": "710cd1e1",
   "metadata": {},
   "source": [
    "Obtain bias from fitted GP:"
   ]
  },
  {
   "cell_type": "code",
   "execution_count": 30,
   "id": "2d2f2038",
   "metadata": {},
   "outputs": [],
   "source": [
    "biases = gp.predict(bias_input)"
   ]
  },
  {
   "cell_type": "code",
   "execution_count": 38,
   "id": "20185f8e",
   "metadata": {},
   "outputs": [],
   "source": [
    "biases_mean = biases.mean"
   ]
  },
  {
   "cell_type": "code",
   "execution_count": 55,
   "id": "67b302b4",
   "metadata": {},
   "outputs": [],
   "source": [
    "biases_mean_confp = biases_mean + (biases.unc)**0.5\n",
    "biases_mean_confn = biases_mean - (biases.unc)**0.5"
   ]
  },
  {
   "cell_type": "code",
   "execution_count": 58,
   "id": "265103ff",
   "metadata": {},
   "outputs": [
    {
     "data": {
      "image/png": "[encoded data removed]",
      "text/plain": [
       "<Figure size 432x288 with 1 Axes>"
      ]
     },
     "metadata": {
      "needs_background": "light"
     },
     "output_type": "display_data"
    }
   ],
   "source": [
    "f, ax = plt.subplots()\n",
    "plt.plot(lin2db(biases_mean), 'b^')\n",
    "# plt.plot(lin2db(biases_mean_confp), 'b+')\n",
    "# plt.plot(lin2db(biases_mean_confn), 'b_')\n",
    "ax.set_xticks(np.arange(0,5,1))\n",
    "ax.set_xticklabels(np.arange(1,6,1))\n",
    "plt.xlabel(\"Channel ID\")\n",
    "plt.ylabel(\"ASE noise power (dBm)\")\n",
    "plt.savefig('figures/gp_bias_estimates.jpeg', dpi=300,bbox_inches='tight')\n",
    "plt.show()"
   ]
  },
  {
   "cell_type": "code",
   "execution_count": 71,
   "id": "459c1adf",
   "metadata": {},
   "outputs": [
    {
     "data": {
      "text/plain": [
       "-20.39796616608768"
      ]
     },
     "execution_count": 71,
     "metadata": {},
     "output_type": "execute_result"
    }
   ],
   "source": [
    "lin2db(np.mean(biases_mean))"
   ]
  },
  {
   "cell_type": "code",
   "execution_count": null,
   "id": "f0b73a9e",
   "metadata": {},
   "outputs": [],
   "source": []
  }
 ],
 "metadata": {
  "kernelspec": {
   "display_name": "Python 3 (ipykernel)",
   "language": "python",
   "name": "python3"
  },
  "language_info": {
   "codemirror_mode": {
    "name": "ipython",
    "version": 3
   },
   "file_extension": ".py",
   "mimetype": "text/x-python",
   "name": "python",
   "nbconvert_exporter": "python",
   "pygments_lexer": "ipython3",
   "version": "3.8.0"
  }
 },
 "nbformat": 4,
 "nbformat_minor": 5
}
