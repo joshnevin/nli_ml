{
 "cells": [
  {
   "cell_type": "code",
   "execution_count": 1,
   "id": "b7ec0669",
   "metadata": {},
   "outputs": [],
   "source": [
    "import numpy as np\n",
    "# from projectile import simulator_multioutput, print_results\n",
    "# import mogp_emulator\n",
    "import pandas as pd\n",
    "from scipy.io import savemat, loadmat\n",
    "try:\n",
    "    import matplotlib.pyplot as plt\n",
    "    makeplots = True\n",
    "except ImportError:\n",
    "    makeplots = False\n",
    "import pickle\n",
    "def lin2db(x):\n",
    "    return 10*np.log10(x)\n",
    "def db2lin(x):\n",
    "    return 10**(x/10) \n",
    "from sklearn.linear_model import LinearRegression, BayesianRidge"
   ]
  },
  {
   "cell_type": "code",
   "execution_count": 2,
   "id": "986d7c42",
   "metadata": {},
   "outputs": [],
   "source": [
    "launch_powers = loadmat(\"data/input_data_mW.mat\")['lnch_pow_mW']\n",
    "noise_powers = loadmat(\"data/output_data_mW.mat\")['tot_noise_pow_mW']"
   ]
  },
  {
   "cell_type": "code",
   "execution_count": 66,
   "id": "b22067bc",
   "metadata": {},
   "outputs": [],
   "source": [
    "num_channels = launch_powers.shape[1]\n",
    "num_examples = launch_powers.shape[0]\n",
    "num_train = 150\n",
    "num_test = 100\n",
    "channel_idx = 4\n",
    "x_train = launch_powers[:num_train]\n",
    "y_train = noise_powers[:num_train]\n",
    "x_test = launch_powers[num_train:]\n",
    "y_test = noise_powers[num_train:]"
   ]
  },
  {
   "cell_type": "code",
   "execution_count": 67,
   "id": "d46f6476",
   "metadata": {},
   "outputs": [
    {
     "data": {
      "text/plain": [
       "(150, 5)"
      ]
     },
     "execution_count": 67,
     "metadata": {},
     "output_type": "execute_result"
    }
   ],
   "source": [
    "x_train.shape"
   ]
  },
  {
   "cell_type": "code",
   "execution_count": 68,
   "id": "36950f4e",
   "metadata": {},
   "outputs": [
    {
     "data": {
      "text/plain": [
       "(150, 15)"
      ]
     },
     "execution_count": 68,
     "metadata": {},
     "output_type": "execute_result"
    }
   ],
   "source": [
    "arr = np.zeros([150,15])\n",
    "arr[:,:5] = x_train\n",
    "arr[:,5:10] = x_train**2\n",
    "arr[:,10:15] = x_train**3\n",
    "arr.shape"
   ]
  },
  {
   "cell_type": "code",
   "execution_count": 69,
   "id": "f22b9332",
   "metadata": {},
   "outputs": [
    {
     "data": {
      "text/plain": [
       "(100, 15)"
      ]
     },
     "execution_count": 69,
     "metadata": {},
     "output_type": "execute_result"
    }
   ],
   "source": [
    "arr_test = np.zeros([100,15])\n",
    "arr_test[:,:5] = x_test\n",
    "arr_test[:,5:10] = x_test**2\n",
    "arr_test[:,10:15] = x_test**3\n",
    "arr_test.shape"
   ]
  },
  {
   "cell_type": "code",
   "execution_count": 70,
   "id": "768beb3f",
   "metadata": {},
   "outputs": [],
   "source": [
    "regressor_bayes = BayesianRidge()\n",
    "# bayes_lin_reg = regressor_bayes.fit(arr, y_train)\n",
    "bayes_lin_reg = regressor_bayes.fit(arr, y_train[:,channel_idx])"
   ]
  },
  {
   "cell_type": "code",
   "execution_count": 71,
   "id": "4e1720ad",
   "metadata": {},
   "outputs": [
    {
     "data": {
      "text/plain": [
       "array([-3.89085640e-02, -8.19937233e-03, -2.16747664e-03, -5.24422528e-04,\n",
       "        1.16708315e-02,  2.28044337e-02,  8.57439350e-03,  2.35840253e-03,\n",
       "        9.54571572e-05,  2.64049447e-03, -3.58066200e-03, -2.40631250e-03,\n",
       "       -5.84700273e-04,  1.69565600e-04, -6.68628723e-04])"
      ]
     },
     "execution_count": 71,
     "metadata": {},
     "output_type": "execute_result"
    }
   ],
   "source": [
    "bayes_lin_reg.coef_"
   ]
  },
  {
   "cell_type": "code",
   "execution_count": 73,
   "id": "7a5fcfd3",
   "metadata": {},
   "outputs": [
    {
     "data": {
      "text/plain": [
       "-23.577960648264682"
      ]
     },
     "execution_count": 73,
     "metadata": {},
     "output_type": "execute_result"
    }
   ],
   "source": [
    "lin2db(bayes_lin_reg.intercept_/5)"
   ]
  },
  {
   "cell_type": "code",
   "execution_count": 55,
   "id": "f4773d00",
   "metadata": {},
   "outputs": [
    {
     "name": "stdout",
     "output_type": "stream",
     "text": [
      "R^2 = 0.9968602173745293\n"
     ]
    }
   ],
   "source": [
    "print(\"R^2 =\",regressor_bayes.score(arr, y_train[:,channel_idx]))"
   ]
  },
  {
   "cell_type": "code",
   "execution_count": 56,
   "id": "c6a60e89",
   "metadata": {},
   "outputs": [
    {
     "name": "stdout",
     "output_type": "stream",
     "text": [
      "R^2 = 0.9963265715456762\n"
     ]
    }
   ],
   "source": [
    "print(\"R^2 =\",regressor_bayes.score(arr_test, y_test[:,channel_idx]))"
   ]
  },
  {
   "cell_type": "code",
   "execution_count": 57,
   "id": "02e054e0",
   "metadata": {},
   "outputs": [
    {
     "name": "stdout",
     "output_type": "stream",
     "text": [
      "Training data MAE climb = 0.05013429495750032\n"
     ]
    }
   ],
   "source": [
    "y_pred = regressor_bayes.predict(arr_test)\n",
    "# print(\"Training data MAE climb =\", np.mean(abs(lin2db(y_test) - lin2db(y_pred))))\n",
    "print(\"Training data MAE climb =\", np.mean(abs(lin2db(y_test[:,channel_idx]) - lin2db(y_pred))))"
   ]
  },
  {
   "cell_type": "code",
   "execution_count": 44,
   "id": "13020f86",
   "metadata": {},
   "outputs": [
    {
     "data": {
      "image/png": "[encoded data removed]",
      "text/plain": [
       "<Figure size 432x288 with 1 Axes>"
      ]
     },
     "metadata": {
      "needs_background": "light"
     },
     "output_type": "display_data"
    }
   ],
   "source": [
    "plt.plot(lin2db(x_test[:,channel_idx]), lin2db(y_pred), '+')\n",
    "plt.plot(lin2db(x_test[:,channel_idx]), lin2db(y_test[:,channel_idx]), 'x')\n",
    "plt.show()"
   ]
  },
  {
   "cell_type": "code",
   "execution_count": 75,
   "id": "83b87621",
   "metadata": {},
   "outputs": [
    {
     "ename": "ValueError",
     "evalue": "could not broadcast input array from shape (100,) into shape (100,5)",
     "output_type": "error",
     "traceback": [
      "\u001b[0;31m---------------------------------------------------------------------------\u001b[0m",
      "\u001b[0;31mValueError\u001b[0m                                Traceback (most recent call last)",
      "Input \u001b[0;32mIn [75]\u001b[0m, in \u001b[0;36m<cell line: 2>\u001b[0;34m()\u001b[0m\n\u001b[1;32m      1\u001b[0m arr_ex \u001b[38;5;241m=\u001b[39m np\u001b[38;5;241m.\u001b[39mzeros([\u001b[38;5;241m100\u001b[39m,\u001b[38;5;241m15\u001b[39m])\n\u001b[0;32m----> 2\u001b[0m arr_ex[:,:\u001b[38;5;241m5\u001b[39m] \u001b[38;5;241m=\u001b[39m np\u001b[38;5;241m.\u001b[39mlinspace(\u001b[38;5;241m0\u001b[39m,db2lin(\u001b[38;5;241m2.0\u001b[39m),\u001b[38;5;241m100\u001b[39m)\n\u001b[1;32m      3\u001b[0m arr_ex[:,\u001b[38;5;241m5\u001b[39m:\u001b[38;5;241m10\u001b[39m] \u001b[38;5;241m=\u001b[39m np\u001b[38;5;241m.\u001b[39mlinspace(\u001b[38;5;241m0\u001b[39m,db2lin(\u001b[38;5;241m2.0\u001b[39m),\u001b[38;5;241m100\u001b[39m)\u001b[38;5;241m*\u001b[39m\u001b[38;5;241m*\u001b[39m\u001b[38;5;241m2\u001b[39m\n\u001b[1;32m      4\u001b[0m arr_ex[:,\u001b[38;5;241m10\u001b[39m:\u001b[38;5;241m15\u001b[39m] \u001b[38;5;241m=\u001b[39m np\u001b[38;5;241m.\u001b[39mlinspace(\u001b[38;5;241m0\u001b[39m,db2lin(\u001b[38;5;241m2.0\u001b[39m),\u001b[38;5;241m100\u001b[39m)\u001b[38;5;241m*\u001b[39m\u001b[38;5;241m*\u001b[39m\u001b[38;5;241m3\u001b[39m\n",
      "\u001b[0;31mValueError\u001b[0m: could not broadcast input array from shape (100,) into shape (100,5)"
     ]
    }
   ],
   "source": [
    "arr_ex = np.zeros([100,15])\n",
    "arr_ex[:,:5] = np.linspace(0,db2lin(2.0),100)\n",
    "arr_ex[:,5:10] = np.linspace(0,db2lin(2.0),100)**2\n",
    "arr_ex[:,10:15] = np.linspace(0,db2lin(2.0),100)**3\n",
    "arr_ex.shape"
   ]
  },
  {
   "cell_type": "code",
   "execution_count": null,
   "id": "51b19387",
   "metadata": {},
   "outputs": [],
   "source": []
  }
 ],
 "metadata": {
  "kernelspec": {
   "display_name": "Python 3 (ipykernel)",
   "language": "python",
   "name": "python3"
  },
  "language_info": {
   "codemirror_mode": {
    "name": "ipython",
    "version": 3
   },
   "file_extension": ".py",
   "mimetype": "text/x-python",
   "name": "python",
   "nbconvert_exporter": "python",
   "pygments_lexer": "ipython3",
   "version": "3.8.0"
  }
 },
 "nbformat": 4,
 "nbformat_minor": 5
}
